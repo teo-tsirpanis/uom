{
 "cells": [
  {
   "cell_type": "markdown",
   "metadata": {},
   "source": [
    "# Κρυπτογραφία\n",
    "## Άσκηση 1: Επίθεση μόνο κρυπτοκειμένου\n",
    "## Τσιρπάνης Θεόδωρος (`dai19090`)"
   ]
  },
  {
   "cell_type": "code",
   "execution_count": null,
   "metadata": {},
   "outputs": [],
   "source": [
    "numberOfLetters = 26\n",
    "\n",
    "def normalizeChar(c):\n",
    "    return ord(c.upper()) - ord('A')\n",
    "\n",
    "def denormalizeChar(x):\n",
    "    return chr(x + ord('A'))"
   ]
  },
  {
   "cell_type": "code",
   "execution_count": null,
   "metadata": {},
   "outputs": [],
   "source": [
    "def calculateUniquenessCode(s):\n",
    "    xs = []\n",
    "    d = {}\n",
    "    for c in s:\n",
    "        c = normalizeChar(c)\n",
    "        if c not in d:\n",
    "            d[c] = len(d)\n",
    "        xs.append(d[c])\n",
    "    return tuple(xs)"
   ]
  },
  {
   "cell_type": "code",
   "execution_count": null,
   "metadata": {},
   "outputs": [],
   "source": [
    "def couldHaveBeen(subMap, possiblePlaintext, ciphertext):\n",
    "    if len(possiblePlaintext) != len(ciphertext):\n",
    "        return False\n",
    "    for i in range(len(possiblePlaintext)):\n",
    "        p = normalizeChar(possiblePlaintext[i])\n",
    "        c = normalizeChar(ciphertext[i])\n",
    "        if p in subMap and subMap[p] != c:\n",
    "            return False\n",
    "    return True"
   ]
  },
  {
   "cell_type": "code",
   "execution_count": null,
   "metadata": {},
   "outputs": [],
   "source": [
    "def generateSubMap(plainText, ciphertext):\n",
    "    d = {}\n",
    "    for i in range(len(plainText)):\n",
    "        d[normalizeChar(plainText[i])] = normalizeChar(ciphertext[i])\n",
    "    return d"
   ]
  },
  {
   "cell_type": "code",
   "execution_count": null,
   "metadata": {},
   "outputs": [],
   "source": [
    "def mergeDictionaries(dest, source):\n",
    "    dest = dest.copy()\n",
    "    for (sKey, sValue) in source:\n",
    "        if sKey not in dest:\n",
    "            dest[sKey] = sValue\n",
    "        elif dest[sKey] != sValue:\n",
    "            return False, {}\n",
    "    return True, dest"
   ]
  },
  {
   "cell_type": "code",
   "execution_count": null,
   "metadata": {},
   "outputs": [],
   "source": [
    "def crackSubstitutionCipher(dictionary, ciphertextWords):\n",
    "    def impl(subMap, plaintextWords, i):\n",
    "        if i == len(ciphertextWords):\n",
    "            for x in plaintextWords:\n",
    "                yield x\n",
    "        c = ciphertextWords[i]\n",
    "        uCode = calculateUniquenessCode(c)\n",
    "        if uCode not in dictionary:\n",
    "            yield (\"Error: Unknown word '\" + c + \"'\", {})\n",
    "        else:\n",
    "            possiblePlaintextWords = filter(dictionary[uCode], lambda p: couldHaveBeen(subMap, p, c))\n",
    "            possiblePlaintext = ()\n",
    "            for pNew in possiblePlaintextWords:\n",
    "                for (p, subMap) in plaintextWords:\n",
    "                    possibleSubMap = mergeDictionaries(subMap, generateSubMap(pNew, c))\n",
    "                    for x in impl(possibleSubMap, plaintextWords + (p + (pNew,), possibleSubMap), i + 1):\n",
    "                        yield x\n",
    "    result = []\n",
    "    for x in result:\n",
    "        result.append(x)\n",
    "    return result"
   ]
  },
  {
   "cell_type": "code",
   "execution_count": null,
   "metadata": {},
   "outputs": [],
   "source": [
    "import urllib2\n",
    "\n",
    "def loadWords():\n",
    "    d = {}\n",
    "    words = urllib2.urlopen(\"https://raw.githubusercontent.com/dwyl/english-words/master/words_alpha.txt\").read()\n",
    "    for w in words.splitlines():\n",
    "        w = w.upper()\n",
    "        uCode = calculateUniquenessCode(w)\n",
    "        if uCode in d:\n",
    "            d[uCode].append(w)\n",
    "        else:\n",
    "            d[uCode] = [w]\n",
    "    return d\n",
    "\n",
    "englishWords = loadWords()\n",
    "print len(englishWords)"
   ]
  },
  {
   "cell_type": "code",
   "execution_count": null,
   "metadata": {},
   "outputs": [],
   "source": [
    "def crack(sentence):\n",
    "    ciphertextWords = sentence.split(\" \")\n",
    "    return crackSubstitutionCipher(englishWords, ciphertextWords)"
   ]
  },
  {
   "cell_type": "code",
   "execution_count": null,
   "metadata": {},
   "outputs": [],
   "source": [
    "crack(\"HUOOPUOHH DT HOBQQUO\")"
   ]
  }
 ],
 "metadata": {
  "kernelspec": {
   "display_name": "Python 2",
   "language": "python",
   "name": "python2"
  },
  "language_info": {
   "codemirror_mode": {
    "name": "ipython",
    "version": 2
   },
   "file_extension": ".py",
   "mimetype": "text/x-python",
   "name": "python",
   "nbconvert_exporter": "python",
   "pygments_lexer": "ipython2",
   "version": "2.7.15"
  }
 },
 "nbformat": 4,
 "nbformat_minor": 2
}
